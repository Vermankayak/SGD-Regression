{
 "cells": [
  {
   "cell_type": "markdown",
   "metadata": {},
   "source": [
    "Boston House Prices dataset\n",
    "===========================\n",
    "\n",
    "Notes\n",
    "------\n",
    "Data Set Characteristics:  \n",
    "\n",
    "    :Number of Instances: 506 \n",
    "\n",
    "    :Number of Attributes: 13 numeric/categorical predictive\n",
    "    \n",
    "    :Median Value (attribute 14) is usually the target\n",
    "\n",
    "    :Attribute Information (in order):\n",
    "        - CRIM     per capita crime rate by town\n",
    "        - ZN       proportion of residential land zoned for lots over 25,000 sq.ft.\n",
    "        - INDUS    proportion of non-retail business acres per town\n",
    "        - CHAS     Charles River dummy variable (= 1 if tract bounds river; 0 otherwise)\n",
    "        - NOX      nitric oxides concentration (parts per 10 million)\n",
    "        - RM       average number of rooms per dwelling\n",
    "        - AGE      proportion of owner-occupied units built prior to 1940\n",
    "        - DIS      weighted distances to five Boston employment centres\n",
    "        - RAD      index of accessibility to radial highways\n",
    "        - TAX      full-value property-tax rate per $10,000\n",
    "        - PTRATIO  pupil-teacher ratio by town\n",
    "        - B        1000(Bk - 0.63)^2 where Bk is the proportion of blacks by town\n",
    "        - LSTAT    % lower status of the population\n",
    "        - MEDV     Median value of owner-occupied homes in $1000's\n",
    "\n",
    "    :Missing Attribute Values: None\n",
    "\n",
    "    :Creator: Harrison, D. and Rubinfeld, D.L.\n",
    "\n",
    "This is a copy of UCI ML housing dataset.\n",
    "http://archive.ics.uci.edu/ml/datasets/Housing\n",
    "\n",
    "\n",
    "This dataset was taken from the StatLib library which is maintained at Carnegie Mellon University.\n",
    "\n",
    "The Boston house-price data of Harrison, D. and Rubinfeld, D.L. 'Hedonic\n",
    "prices and the demand for clean air', J. Environ. Economics & Management,\n",
    "vol.5, 81-102, 1978.   Used in Belsley, Kuh & Welsch, 'Regression diagnostics\n",
    "...', Wiley, 1980.   N.B. Various transformations are used in the table on\n",
    "pages 244-261 of the latter.\n",
    "\n",
    "The Boston house-price data has been used in many machine learning papers that address regression\n",
    "problems.   \n",
    "     \n",
    "**References**\n",
    "\n",
    "   - Belsley, Kuh & Welsch, 'Regression diagnostics: Identifying Influential Data and Sources of Collinearity', Wiley, 1980. 244-261.\n",
    "   - Quinlan,R. (1993). Combining Instance-Based and Model-Based Learning. In Proceedings on the Tenth International Conference of Machine Learning, 236-243, University of Massachusetts, Amherst. Morgan Kaufmann.\n",
    "   - many more! (see http://archive.ics.uci.edu/ml/datasets/Housing)"
   ]
  },
  {
   "cell_type": "code",
   "execution_count": 1,
   "metadata": {},
   "outputs": [],
   "source": [
    "import warnings #Code to remove warnings\n",
    "warnings.filterwarnings('ignore')"
   ]
  },
  {
   "cell_type": "markdown",
   "metadata": {},
   "source": [
    "## 1. Loading Libraries"
   ]
  },
  {
   "cell_type": "code",
   "execution_count": 2,
   "metadata": {},
   "outputs": [
    {
     "name": "stderr",
     "output_type": "stream",
     "text": [
      "/usr/local/lib/python3.5/site-packages/sklearn/cross_validation.py:41: DeprecationWarning: This module was deprecated in version 0.18 in favor of the model_selection module into which all the refactored classes and functions are moved. Also note that the interface of the new CV iterators are different from that of this module. This module will be removed in 0.20.\n",
      "  \"This module will be removed in 0.20.\", DeprecationWarning)\n"
     ]
    }
   ],
   "source": [
    "import numpy as np\n",
    "import pandas as pd\n",
    "import matplotlib.pyplot as plt\n",
    "from sklearn.preprocessing import StandardScaler\n",
    "from sklearn.datasets import load_boston\n",
    "from sklearn.cross_validation import train_test_split\n",
    "from sklearn.linear_model import SGDRegressor\n",
    "from sklearn.model_selection import GridSearchCV\n",
    "from sklearn.metrics import make_scorer\n",
    "from sklearn.metrics import mean_squared_error\n",
    "import prettytable"
   ]
  },
  {
   "cell_type": "markdown",
   "metadata": {},
   "source": [
    "## 2. Dataset Preprocessing"
   ]
  },
  {
   "cell_type": "code",
   "execution_count": 3,
   "metadata": {},
   "outputs": [],
   "source": [
    "boston = load_boston() #loading boston housing dataset"
   ]
  },
  {
   "cell_type": "code",
   "execution_count": 4,
   "metadata": {},
   "outputs": [
    {
     "name": "stdout",
     "output_type": "stream",
     "text": [
      "Shape of dataset is: (506, 13)\n"
     ]
    }
   ],
   "source": [
    "print('Shape of dataset is:',boston.data.shape)#boston.data gives us an array. Here we are getting shape of boston array"
   ]
  },
  {
   "cell_type": "code",
   "execution_count": 5,
   "metadata": {},
   "outputs": [
    {
     "data": {
      "text/html": [
       "<div>\n",
       "<style scoped>\n",
       "    .dataframe tbody tr th:only-of-type {\n",
       "        vertical-align: middle;\n",
       "    }\n",
       "\n",
       "    .dataframe tbody tr th {\n",
       "        vertical-align: top;\n",
       "    }\n",
       "\n",
       "    .dataframe thead th {\n",
       "        text-align: right;\n",
       "    }\n",
       "</style>\n",
       "<table border=\"1\" class=\"dataframe\">\n",
       "  <thead>\n",
       "    <tr style=\"text-align: right;\">\n",
       "      <th></th>\n",
       "      <th>CRIM</th>\n",
       "      <th>ZN</th>\n",
       "      <th>INDUS</th>\n",
       "      <th>CHAS</th>\n",
       "      <th>NOX</th>\n",
       "      <th>RM</th>\n",
       "      <th>AGE</th>\n",
       "      <th>DIS</th>\n",
       "      <th>RAD</th>\n",
       "      <th>TAX</th>\n",
       "      <th>PTRATIO</th>\n",
       "      <th>B</th>\n",
       "      <th>LSTAT</th>\n",
       "    </tr>\n",
       "  </thead>\n",
       "  <tbody>\n",
       "    <tr>\n",
       "      <th>0</th>\n",
       "      <td>0.00632</td>\n",
       "      <td>18.0</td>\n",
       "      <td>2.31</td>\n",
       "      <td>0.0</td>\n",
       "      <td>0.538</td>\n",
       "      <td>6.575</td>\n",
       "      <td>65.2</td>\n",
       "      <td>4.0900</td>\n",
       "      <td>1.0</td>\n",
       "      <td>296.0</td>\n",
       "      <td>15.3</td>\n",
       "      <td>396.90</td>\n",
       "      <td>4.98</td>\n",
       "    </tr>\n",
       "    <tr>\n",
       "      <th>1</th>\n",
       "      <td>0.02731</td>\n",
       "      <td>0.0</td>\n",
       "      <td>7.07</td>\n",
       "      <td>0.0</td>\n",
       "      <td>0.469</td>\n",
       "      <td>6.421</td>\n",
       "      <td>78.9</td>\n",
       "      <td>4.9671</td>\n",
       "      <td>2.0</td>\n",
       "      <td>242.0</td>\n",
       "      <td>17.8</td>\n",
       "      <td>396.90</td>\n",
       "      <td>9.14</td>\n",
       "    </tr>\n",
       "    <tr>\n",
       "      <th>2</th>\n",
       "      <td>0.02729</td>\n",
       "      <td>0.0</td>\n",
       "      <td>7.07</td>\n",
       "      <td>0.0</td>\n",
       "      <td>0.469</td>\n",
       "      <td>7.185</td>\n",
       "      <td>61.1</td>\n",
       "      <td>4.9671</td>\n",
       "      <td>2.0</td>\n",
       "      <td>242.0</td>\n",
       "      <td>17.8</td>\n",
       "      <td>392.83</td>\n",
       "      <td>4.03</td>\n",
       "    </tr>\n",
       "    <tr>\n",
       "      <th>3</th>\n",
       "      <td>0.03237</td>\n",
       "      <td>0.0</td>\n",
       "      <td>2.18</td>\n",
       "      <td>0.0</td>\n",
       "      <td>0.458</td>\n",
       "      <td>6.998</td>\n",
       "      <td>45.8</td>\n",
       "      <td>6.0622</td>\n",
       "      <td>3.0</td>\n",
       "      <td>222.0</td>\n",
       "      <td>18.7</td>\n",
       "      <td>394.63</td>\n",
       "      <td>2.94</td>\n",
       "    </tr>\n",
       "    <tr>\n",
       "      <th>4</th>\n",
       "      <td>0.06905</td>\n",
       "      <td>0.0</td>\n",
       "      <td>2.18</td>\n",
       "      <td>0.0</td>\n",
       "      <td>0.458</td>\n",
       "      <td>7.147</td>\n",
       "      <td>54.2</td>\n",
       "      <td>6.0622</td>\n",
       "      <td>3.0</td>\n",
       "      <td>222.0</td>\n",
       "      <td>18.7</td>\n",
       "      <td>396.90</td>\n",
       "      <td>5.33</td>\n",
       "    </tr>\n",
       "  </tbody>\n",
       "</table>\n",
       "</div>"
      ],
      "text/plain": [
       "      CRIM    ZN  INDUS  CHAS    NOX     RM   AGE     DIS  RAD    TAX  \\\n",
       "0  0.00632  18.0   2.31   0.0  0.538  6.575  65.2  4.0900  1.0  296.0   \n",
       "1  0.02731   0.0   7.07   0.0  0.469  6.421  78.9  4.9671  2.0  242.0   \n",
       "2  0.02729   0.0   7.07   0.0  0.469  7.185  61.1  4.9671  2.0  242.0   \n",
       "3  0.03237   0.0   2.18   0.0  0.458  6.998  45.8  6.0622  3.0  222.0   \n",
       "4  0.06905   0.0   2.18   0.0  0.458  7.147  54.2  6.0622  3.0  222.0   \n",
       "\n",
       "   PTRATIO       B  LSTAT  \n",
       "0     15.3  396.90   4.98  \n",
       "1     17.8  396.90   9.14  \n",
       "2     17.8  392.83   4.03  \n",
       "3     18.7  394.63   2.94  \n",
       "4     18.7  396.90   5.33  "
      ]
     },
     "execution_count": 5,
     "metadata": {},
     "output_type": "execute_result"
    }
   ],
   "source": [
    "bos = pd.DataFrame(boston.data,columns = boston.feature_names)#Here we are converting our array 'boston.data' into a dataframe-\n",
    "#- and our column names are contained in 'boston.feature_names'\n",
    "bos.head()"
   ]
  },
  {
   "cell_type": "code",
   "execution_count": 6,
   "metadata": {},
   "outputs": [],
   "source": [
    "bos['Price'] = boston.target #boston.target contains our y_i's and hence we are now putting our y_i's into bos dataframe"
   ]
  },
  {
   "cell_type": "code",
   "execution_count": 7,
   "metadata": {},
   "outputs": [],
   "source": [
    "x = bos.drop('Price',axis = 1)#Here we are splitting our dataset 'bos' into datapoint dataframe and y_i dataframe.\n",
    "y = bos['Price']"
   ]
  },
  {
   "cell_type": "code",
   "execution_count": 8,
   "metadata": {},
   "outputs": [],
   "source": [
    "x_train,x_test,y_train,y_test = train_test_split(x,y)#splitting our dataset into train and test"
   ]
  },
  {
   "cell_type": "code",
   "execution_count": 9,
   "metadata": {},
   "outputs": [],
   "source": [
    "standardized_train = StandardScaler().fit_transform(x_train) #standardizing our training dataset\n",
    "standardized_test = StandardScaler().fit_transform(x_test) #standardizing our test dataset"
   ]
  },
  {
   "cell_type": "code",
   "execution_count": 10,
   "metadata": {},
   "outputs": [],
   "source": [
    "#Creating training dataframe which contains both datapoints and y_i's\n",
    "d_train = pd.DataFrame(standardized_train)\n",
    "d_train['Price'] = np.array(y_train)\n",
    "\n",
    "#Creating test dataframe which contains both datapoints and y_i's\n",
    "d_test = pd.DataFrame(standardized_test)\n",
    "d_test['Price'] = np.array(y_test)"
   ]
  },
  {
   "cell_type": "code",
   "execution_count": 11,
   "metadata": {},
   "outputs": [
    {
     "name": "stdout",
     "output_type": "stream",
     "text": [
      "(379, 14)\n",
      "(127, 14)\n"
     ]
    }
   ],
   "source": [
    "print(d_train.shape)\n",
    "print(d_test.shape)"
   ]
  },
  {
   "cell_type": "code",
   "execution_count": 12,
   "metadata": {},
   "outputs": [
    {
     "data": {
      "text/html": [
       "<div>\n",
       "<style scoped>\n",
       "    .dataframe tbody tr th:only-of-type {\n",
       "        vertical-align: middle;\n",
       "    }\n",
       "\n",
       "    .dataframe tbody tr th {\n",
       "        vertical-align: top;\n",
       "    }\n",
       "\n",
       "    .dataframe thead th {\n",
       "        text-align: right;\n",
       "    }\n",
       "</style>\n",
       "<table border=\"1\" class=\"dataframe\">\n",
       "  <thead>\n",
       "    <tr style=\"text-align: right;\">\n",
       "      <th></th>\n",
       "      <th>0</th>\n",
       "      <th>1</th>\n",
       "      <th>2</th>\n",
       "      <th>3</th>\n",
       "      <th>4</th>\n",
       "      <th>5</th>\n",
       "      <th>6</th>\n",
       "      <th>7</th>\n",
       "      <th>8</th>\n",
       "      <th>9</th>\n",
       "      <th>10</th>\n",
       "      <th>11</th>\n",
       "      <th>12</th>\n",
       "      <th>Price</th>\n",
       "    </tr>\n",
       "  </thead>\n",
       "  <tbody>\n",
       "    <tr>\n",
       "      <th>0</th>\n",
       "      <td>0.694276</td>\n",
       "      <td>-0.480911</td>\n",
       "      <td>0.998510</td>\n",
       "      <td>-0.248243</td>\n",
       "      <td>0.245557</td>\n",
       "      <td>-1.100563</td>\n",
       "      <td>0.071415</td>\n",
       "      <td>-0.828240</td>\n",
       "      <td>1.648985</td>\n",
       "      <td>1.537645</td>\n",
       "      <td>0.822072</td>\n",
       "      <td>-3.988520</td>\n",
       "      <td>0.637485</td>\n",
       "      <td>11.7</td>\n",
       "    </tr>\n",
       "    <tr>\n",
       "      <th>1</th>\n",
       "      <td>-0.390557</td>\n",
       "      <td>-0.480911</td>\n",
       "      <td>-0.186256</td>\n",
       "      <td>-0.248243</td>\n",
       "      <td>-0.073535</td>\n",
       "      <td>-0.321752</td>\n",
       "      <td>0.956263</td>\n",
       "      <td>-0.592255</td>\n",
       "      <td>-0.418155</td>\n",
       "      <td>0.143977</td>\n",
       "      <td>-0.300854</td>\n",
       "      <td>0.423459</td>\n",
       "      <td>0.627478</td>\n",
       "      <td>18.7</td>\n",
       "    </tr>\n",
       "    <tr>\n",
       "      <th>2</th>\n",
       "      <td>-0.048540</td>\n",
       "      <td>-0.480911</td>\n",
       "      <td>1.215253</td>\n",
       "      <td>-0.248243</td>\n",
       "      <td>0.426662</td>\n",
       "      <td>-0.308451</td>\n",
       "      <td>0.870633</td>\n",
       "      <td>-0.721134</td>\n",
       "      <td>-0.532996</td>\n",
       "      <td>-0.028742</td>\n",
       "      <td>-1.751300</td>\n",
       "      <td>-1.335050</td>\n",
       "      <td>-0.413303</td>\n",
       "      <td>25.0</td>\n",
       "    </tr>\n",
       "    <tr>\n",
       "      <th>3</th>\n",
       "      <td>-0.414197</td>\n",
       "      <td>0.981168</td>\n",
       "      <td>-0.760333</td>\n",
       "      <td>-0.248243</td>\n",
       "      <td>-1.056680</td>\n",
       "      <td>0.414203</td>\n",
       "      <td>-1.006101</td>\n",
       "      <td>0.841536</td>\n",
       "      <td>-0.303314</td>\n",
       "      <td>-0.469475</td>\n",
       "      <td>-1.096260</td>\n",
       "      <td>0.410557</td>\n",
       "      <td>-0.457622</td>\n",
       "      <td>22.0</td>\n",
       "    </tr>\n",
       "    <tr>\n",
       "      <th>4</th>\n",
       "      <td>-0.401406</td>\n",
       "      <td>-0.480911</td>\n",
       "      <td>-0.101316</td>\n",
       "      <td>-0.248243</td>\n",
       "      <td>-0.573731</td>\n",
       "      <td>-0.618793</td>\n",
       "      <td>-1.651898</td>\n",
       "      <td>0.088378</td>\n",
       "      <td>-0.647837</td>\n",
       "      <td>-0.779178</td>\n",
       "      <td>0.073454</td>\n",
       "      <td>0.423459</td>\n",
       "      <td>-0.261760</td>\n",
       "      <td>22.6</td>\n",
       "    </tr>\n",
       "  </tbody>\n",
       "</table>\n",
       "</div>"
      ],
      "text/plain": [
       "          0         1         2         3         4         5         6  \\\n",
       "0  0.694276 -0.480911  0.998510 -0.248243  0.245557 -1.100563  0.071415   \n",
       "1 -0.390557 -0.480911 -0.186256 -0.248243 -0.073535 -0.321752  0.956263   \n",
       "2 -0.048540 -0.480911  1.215253 -0.248243  0.426662 -0.308451  0.870633   \n",
       "3 -0.414197  0.981168 -0.760333 -0.248243 -1.056680  0.414203 -1.006101   \n",
       "4 -0.401406 -0.480911 -0.101316 -0.248243 -0.573731 -0.618793 -1.651898   \n",
       "\n",
       "          7         8         9        10        11        12  Price  \n",
       "0 -0.828240  1.648985  1.537645  0.822072 -3.988520  0.637485   11.7  \n",
       "1 -0.592255 -0.418155  0.143977 -0.300854  0.423459  0.627478   18.7  \n",
       "2 -0.721134 -0.532996 -0.028742 -1.751300 -1.335050 -0.413303   25.0  \n",
       "3  0.841536 -0.303314 -0.469475 -1.096260  0.410557 -0.457622   22.0  \n",
       "4  0.088378 -0.647837 -0.779178  0.073454  0.423459 -0.261760   22.6  "
      ]
     },
     "execution_count": 12,
     "metadata": {},
     "output_type": "execute_result"
    }
   ],
   "source": [
    "d_train.head()"
   ]
  },
  {
   "cell_type": "markdown",
   "metadata": {},
   "source": [
    "### 3. Custom implementation of SGDRegressor"
   ]
  },
  {
   "cell_type": "code",
   "execution_count": 13,
   "metadata": {},
   "outputs": [],
   "source": [
    "def sgdreg_fit(x,alpha,batch_size=100, n_iter = 1000,eta0 = 0.01):\n",
    "    \n",
    "    #Here our learning rate == 'invscaling' and we have used L2 regularization \n",
    "    \"\"\"This function is custom implementation of Stochastic Gradient Descent Regressor.\n",
    "    \n",
    "    Input: \n",
    "          \n",
    "          x: This is our dataset on which we want to calculate our weights so that we can find a line which best fits-\n",
    "              our x.\n",
    "              \n",
    "          alpha: This is our coefficient of L2 Regularizer.\n",
    "          \n",
    "          batch_size: This is the size of our batch of our datapoints which we randomly sample from our dataset 'x' at each-\n",
    "                      -iteration.\n",
    "                      \n",
    "          n_iter: No. of iterations we want to perform.\n",
    "          \n",
    "          eta0: This is our learning rate.\n",
    "        \n",
    "    Output:\n",
    "           \n",
    "           This function return a dictionary containing weight and intercept corresponding to a particular alpha  value\"\"\"\n",
    "    \n",
    "    dict_1 = dict()#dictionary this function returns\n",
    "    t = 1 #invscaling parameter and is given by t = n_iter*batch_size\n",
    "    power_t = 0.25 #invscaling parameter which will be used as power of 't'\n",
    "    eta = eta0 #learning rate\n",
    "    \n",
    "    w_old = np.zeros(shape = (1,13))#zero intitialization of our weights.\n",
    "    b_old = 0 #zero initialization of our intercept term\n",
    "    \n",
    "    for i in range(n_iter):\n",
    "        gradient_w = np.zeros(shape = (1,13)) #zero intitialization of gradient of loss term w.r.t w\n",
    "        gradient_b = 0 #zero intitialization of gradient of loss term w.r.t b\n",
    "        batch_data=x.sample(n = batch_size) #randomly sampling datapoints from dataset\n",
    "        batch_x= np.array(batch_data.drop('Price',axis=1)) # separating our x_i's from batch dataset\n",
    "        batch_y = np.array(batch_data['Price']) # separating our y_i's from dataset from batch dataset\n",
    "        \n",
    "        #Here we are calculating gradient of loss term w.r.t w and w.r.t b\n",
    "        for j in range(batch_size):\n",
    "            y = np.dot(w_old,batch_x[j])+b_old \n",
    "            gradient_w += (batch_x[j]*(batch_y[j]-y)) + 2*alpha*w_old\n",
    "            gradient_b += (batch_y[j]-y)\n",
    "       \n",
    "        gradient_w *= (-2/batch_size)\n",
    "        gradient_b *= (-2/batch_size)\n",
    "        \n",
    "        #updating our weights\n",
    "        w_new = w_old - eta*gradient_w\n",
    "        b_new = b_old - eta*gradient_b\n",
    "        \n",
    "        #updating our old weights\n",
    "        w_old = w_new\n",
    "        b_old = b_new\n",
    "        eta = eta/pow(t,power_t) #Here we are updating our learning rate at each iteration\n",
    "        t=(i*batch_size)+(alpha*eta0) #updating our invscaling parameter at each iteration\n",
    "        \n",
    "        #Here we are assigning values to various keys in the dictionary\n",
    "        if i == (n_iter-1)  : \n",
    "            dict_1['alpha'] = alpha\n",
    "            dict_1['weight'] = w_old\n",
    "            dict_1['intercept'] = b_old\n",
    "            break\n",
    "    return dict_1\n",
    "\n",
    "\n",
    "def sgdreg_predict(w,b,x):\n",
    "    \"\"\"This function will predict the y_i values corresponding to our query points.\n",
    "        \n",
    "       Input: This function takes 'w' which is the best weight on which our dataset has been trained. \n",
    "              This function also takes 'b' which is the best intercept term on which our dataset has been trained.\n",
    "              'x' is our test dataset.\n",
    "        \n",
    "       Output: This function returns an array of predicted values.\n",
    "       \n",
    "    \"\"\"\n",
    "    y_pred = []\n",
    "    for i in range(x.shape[0]):\n",
    "        y_pred.append(np.dot(w,x[i])+b)\n",
    "    return np.array(y_pred)\n",
    "\n",
    "def error(y_true,y_pred):\n",
    "    \"\"\"This function calculates mean squared error\"\"\"\n",
    "    error = mean_squared_error(y_true,y_pred)\n",
    "    return error\n",
    "\n",
    "def plot(y_true,y_pred):\n",
    "    \"\"\"This function plots y_pred as a function of y_true\"\"\"\n",
    "    plt.figure()\n",
    "    plt.scatter(y = y_pred,x = y_true,label = 'Actual values Vs Pred values')\n",
    "    plt.xlabel('Actual values')\n",
    "    plt.ylabel('Predicted values')\n",
    "    plt.title('Actual values Vs Pred values')\n",
    "    plt.legend()\n",
    "    plt.grid()\n",
    "    plt.show() "
   ]
  },
  {
   "cell_type": "code",
   "execution_count": 14,
   "metadata": {},
   "outputs": [
    {
     "name": "stdout",
     "output_type": "stream",
     "text": [
      "alpha = 1e-06, eta = 1e-06, mse = 585.5912974903646\n",
      "alpha = 1e-06, eta = 1e-05, mse = 568.4120011329558\n",
      "alpha = 1e-06, eta = 0.0001, mse = 477.42740964084373\n",
      "alpha = 1e-06, eta = 0.001, mse = 185.4550531700009\n",
      "alpha = 1e-06, eta = 0.01, mse = 537.4241268396811\n",
      "alpha = 1e-06, eta = 0.1, mse = 9102493.203844715\n",
      "alpha = 1e-06, eta = 1, mse = 8.009229853387747e+17\n",
      "alpha = 1e-06, eta = 10, mse = 1.4330462550748914e+31\n",
      "alpha = 1e-06, eta = 100, mse = 2.418153055558553e+44\n",
      "alpha = 1e-06, eta = 1000, mse = 2.202044048965857e+60\n",
      "alpha = 1e-06, eta = 10000, mse = 7.517358960021271e+76\n",
      "alpha = 1e-06, eta = 100000, mse = 5.42896297609114e+95\n",
      "alpha = 1e-06, eta = 1000000, mse = 6.164461811029461e+115\n",
      "alpha = 1e-05, eta = 1e-06, mse = 588.0098637370008\n",
      "alpha = 1e-05, eta = 1e-05, mse = 577.1803377850713\n",
      "alpha = 1e-05, eta = 0.0001, mse = 522.5942352294663\n",
      "alpha = 1e-05, eta = 0.001, mse = 304.980486739748\n",
      "alpha = 1e-05, eta = 0.01, mse = 115.92005296807415\n",
      "alpha = 1e-05, eta = 0.1, mse = 112224.76569128312\n",
      "alpha = 1e-05, eta = 1, mse = 250854540109324.4\n",
      "alpha = 1e-05, eta = 10, mse = 3.6313072481568044e+27\n",
      "alpha = 1e-05, eta = 100, mse = 5.216930398743069e+40\n",
      "alpha = 1e-05, eta = 1000, mse = 2.0315855043969676e+56\n",
      "alpha = 1e-05, eta = 10000, mse = 2.533443197260906e+71\n",
      "alpha = 1e-05, eta = 100000, mse = 2.279086692778207e+90\n",
      "alpha = 1e-05, eta = 1000000, mse = 2.5926389448093135e+109\n",
      "alpha = 0.0001, eta = 1e-06, mse = 588.6556485071422\n",
      "alpha = 0.0001, eta = 1e-05, mse = 583.939844015577\n",
      "alpha = 0.0001, eta = 0.0001, mse = 546.6686214787708\n",
      "alpha = 0.0001, eta = 0.001, mse = 396.19842941480357\n",
      "alpha = 0.0001, eta = 0.01, mse = 118.58217493958155\n",
      "alpha = 0.0001, eta = 0.1, mse = 129.49675125485834\n",
      "alpha = 0.0001, eta = 1, mse = 193030361562845.47\n",
      "alpha = 0.0001, eta = 10, mse = 2.011303982031902e+25\n",
      "alpha = 0.0001, eta = 100, mse = 8.476733738085556e+37\n",
      "alpha = 0.0001, eta = 1000, mse = 3.350330688159265e+52\n",
      "alpha = 0.0001, eta = 10000, mse = 1.561918008825844e+67\n",
      "alpha = 0.0001, eta = 100000, mse = 1.0852399927807173e+85\n",
      "alpha = 0.0001, eta = 1000000, mse = 1.859848793668928e+101\n",
      "alpha = 0.001, eta = 1e-06, mse = 589.1304382682057\n",
      "alpha = 0.001, eta = 1e-05, mse = 585.1589316111069\n",
      "alpha = 0.001, eta = 0.0001, mse = 567.3117392074686\n",
      "alpha = 0.001, eta = 0.001, mse = 475.0369597557927\n",
      "alpha = 0.001, eta = 0.01, mse = 167.235657987466\n",
      "alpha = 0.001, eta = 0.1, mse = 133.9215100752884\n",
      "alpha = 0.001, eta = 1, mse = 3868954367481.011\n",
      "alpha = 0.001, eta = 10, mse = 6.3558837525549825e+22\n",
      "alpha = 0.001, eta = 100, mse = 2.0570200182063595e+35\n",
      "alpha = 0.001, eta = 1000, mse = 3.320848755307668e+48\n",
      "alpha = 0.001, eta = 10000, mse = 7.882480513923244e+63\n",
      "alpha = 0.001, eta = 100000, mse = 1.990340932481087e+78\n",
      "alpha = 0.001, eta = 1000000, mse = 1.1019556473273775e+85\n",
      "alpha = 0.01, eta = 1e-06, mse = 589.5331418922383\n",
      "alpha = 0.01, eta = 1e-05, mse = 587.5047153322602\n",
      "alpha = 0.01, eta = 0.0001, mse = 577.7721804445258\n",
      "alpha = 0.01, eta = 0.001, mse = 513.2410160221331\n",
      "alpha = 0.01, eta = 0.01, mse = 286.70408439715857\n",
      "alpha = 0.01, eta = 0.1, mse = 76.43598821814052\n",
      "alpha = 0.01, eta = 1, mse = 51200544325.59219\n",
      "alpha = 0.01, eta = 10, mse = 7.415099013195343e+19\n",
      "alpha = 0.01, eta = 100, mse = 1.1663430012946158e+31\n",
      "alpha = 0.01, eta = 1000, mse = 9.662383159929995e+44\n",
      "alpha = 0.01, eta = 10000, mse = 2.0838921599906294e+57\n",
      "alpha = 0.01, eta = 100000, mse = 9.507716672444089e+65\n",
      "alpha = 0.01, eta = 1000000, mse = 1.2042550171710226e+71\n",
      "alpha = 0.1, eta = 1e-06, mse = 589.7197923197265\n",
      "alpha = 0.1, eta = 1e-05, mse = 588.7766705999273\n",
      "alpha = 0.1, eta = 0.0001, mse = 582.039363647325\n",
      "alpha = 0.1, eta = 0.001, mse = 542.778295460211\n",
      "alpha = 0.1, eta = 0.01, mse = 375.895396002623\n",
      "alpha = 0.1, eta = 0.1, mse = 37.84139064712439\n",
      "alpha = 0.1, eta = 1, mse = 2298949985.32893\n",
      "alpha = 0.1, eta = 10, mse = 3.121476785280179e+17\n",
      "alpha = 0.1, eta = 100, mse = 1.5247348689014173e+29\n",
      "alpha = 0.1, eta = 1000, mse = 2.341964632304869e+40\n",
      "alpha = 0.1, eta = 10000, mse = 4.357746710036582e+49\n",
      "alpha = 0.1, eta = 100000, mse = 2.463797563850044e+53\n",
      "alpha = 0.1, eta = 1000000, mse = 1.2181500083002381e+62\n",
      "alpha = 1, eta = 1e-06, mse = 589.7914628342031\n",
      "alpha = 1, eta = 1e-05, mse = 589.2471555581494\n",
      "alpha = 1, eta = 0.0001, mse = 584.9499016077467\n",
      "alpha = 1, eta = 0.001, mse = 561.1279870210752\n",
      "alpha = 1, eta = 0.01, mse = 428.8074873112043\n",
      "alpha = 1, eta = 0.1, mse = 126.25766847743176\n",
      "alpha = 1, eta = 1, mse = 658471.0725046844\n",
      "alpha = 1, eta = 10, mse = 212259149021304.56\n",
      "alpha = 1, eta = 100, mse = 1.7627702767042736e+21\n",
      "alpha = 1, eta = 1000, mse = 1.377141307715177e+32\n",
      "alpha = 1, eta = 10000, mse = 3.2288589275226414e+39\n",
      "alpha = 1, eta = 100000, mse = 3.2795591482934436e+46\n",
      "alpha = 1, eta = 1000000, mse = 5.0989011172160714e+54\n",
      "alpha = 10, eta = 1e-06, mse = 589.8684540068017\n",
      "alpha = 10, eta = 1e-05, mse = 589.4623167200921\n",
      "alpha = 10, eta = 0.0001, mse = 586.8519001738928\n",
      "alpha = 10, eta = 0.001, mse = 569.4331812978122\n",
      "alpha = 10, eta = 0.01, mse = 460.91006264374005\n",
      "alpha = 10, eta = 0.1, mse = 213508.874385556\n",
      "alpha = 10, eta = 1, mse = 881608472975.4432\n",
      "alpha = 10, eta = 10, mse = 1.0360042164976571e+20\n",
      "alpha = 10, eta = 100, mse = 1.264900349254894e+28\n",
      "alpha = 10, eta = 1000, mse = 9.558944620766703e+34\n",
      "alpha = 10, eta = 10000, mse = 1.5140463880930048e+42\n",
      "alpha = 10, eta = 100000, mse = 3.430932582276631e+48\n",
      "alpha = 10, eta = 1000000, mse = 9.659338174470282e+55\n",
      "alpha = 100, eta = 1e-06, mse = 589.8940694220533\n",
      "alpha = 100, eta = 1e-05, mse = 589.612439879341\n",
      "alpha = 100, eta = 0.0001, mse = 588.0339504572294\n",
      "alpha = 100, eta = 0.001, mse = 573.6743652634376\n",
      "alpha = 100, eta = 0.01, mse = 4761.95120928941\n",
      "alpha = 100, eta = 0.1, mse = 64612058097.81077\n",
      "alpha = 100, eta = 1, mse = 2.0983199527288123e+19\n",
      "alpha = 100, eta = 10, mse = 1.0100301113952757e+27\n",
      "alpha = 100, eta = 100, mse = 5.72374119127788e+33\n",
      "alpha = 100, eta = 1000, mse = 6.951055348268077e+40\n",
      "alpha = 100, eta = 10000, mse = 1.4669538629435048e+48\n",
      "alpha = 100, eta = 100000, mse = 8.883538827845762e+54\n",
      "alpha = 100, eta = 1000000, mse = 1.2878360944642058e+62\n",
      "alpha = 1000, eta = 1e-06, mse = 589.9090905446271\n",
      "alpha = 1000, eta = 1e-05, mse = 589.7147829101814\n",
      "alpha = 1000, eta = 0.0001, mse = 588.0658283832292\n",
      "alpha = 1000, eta = 0.001, mse = 544.5364544355944\n",
      "alpha = 1000, eta = 0.01, mse = 1031724048.2219979\n",
      "alpha = 1000, eta = 0.1, mse = 4.191064975824121e+17\n",
      "alpha = 1000, eta = 1, mse = 1.7776356905920756e+25\n",
      "alpha = 1000, eta = 10, mse = 6.24020791526353e+31\n",
      "alpha = 1000, eta = 100, mse = 9.88849568256572e+38\n",
      "alpha = 1000, eta = 1000, mse = 4.695174807431067e+45\n",
      "alpha = 1000, eta = 10000, mse = 1.6036288443600027e+53\n",
      "alpha = 1000, eta = 100000, mse = 8.68388373451371e+59\n",
      "alpha = 1000, eta = 1000000, mse = 9.307488858052187e+66\n",
      "alpha = 10000, eta = 1e-06, mse = 589.9199056028966\n",
      "alpha = 10000, eta = 1e-05, mse = 589.7869961491052\n",
      "alpha = 10000, eta = 0.0001, mse = 581.8554710248783\n",
      "alpha = 10000, eta = 0.001, mse = 7251217.401187607\n",
      "alpha = 10000, eta = 0.01, mse = 2755485801617960.0\n",
      "alpha = 10000, eta = 0.1, mse = 1.3690605034504221e+23\n",
      "alpha = 10000, eta = 1, mse = 2.4417512470202173e+30\n",
      "alpha = 10000, eta = 10, mse = 2.304993756801872e+37\n",
      "alpha = 10000, eta = 100, mse = 3.1685201350930324e+43\n",
      "alpha = 10000, eta = 1000, mse = 3.637437526366965e+51\n",
      "alpha = 10000, eta = 10000, mse = 9.875373102408463e+57\n",
      "alpha = 10000, eta = 100000, mse = 4.004453770828702e+64\n",
      "alpha = 10000, eta = 1000000, mse = 1.1642272586577377e+72\n",
      "alpha = 100000, eta = 1e-06, mse = 589.9194305857052\n",
      "alpha = 100000, eta = 1e-05, mse = 589.3099208259993\n",
      "alpha = 100000, eta = 0.0001, mse = 94453.31538506552\n",
      "alpha = 100000, eta = 0.001, mse = 8550020602803.298\n",
      "alpha = 100000, eta = 0.01, mse = 2.9272854113137234e+21\n",
      "alpha = 100000, eta = 0.1, mse = 3.307214456358955e+28\n",
      "alpha = 100000, eta = 1, mse = 1.1410798486385933e+35\n",
      "alpha = 100000, eta = 10, mse = 4.77887790606958e+41\n",
      "alpha = 100000, eta = 100, mse = 8.338581661462512e+48\n",
      "alpha = 100000, eta = 1000, mse = 2.1606889407584934e+55\n",
      "alpha = 100000, eta = 10000, mse = 8.37591693314114e+62\n",
      "alpha = 100000, eta = 100000, mse = 2.260886381978548e+69\n",
      "alpha = 100000, eta = 1000000, mse = 9.707849249469603e+76\n",
      "alpha = 1000000, eta = 1e-06, mse = 589.8205051447088\n",
      "alpha = 1000000, eta = 1e-05, mse = 854.5595158855186\n",
      "alpha = 1000000, eta = 0.0001, mse = 373309699443.9021\n",
      "alpha = 1000000, eta = 0.001, mse = 2.6147330189803405e+19\n",
      "alpha = 1000000, eta = 0.01, mse = 1.3783170131650721e+26\n",
      "alpha = 1000000, eta = 0.1, mse = 1.0349403514594418e+33\n",
      "alpha = 1000000, eta = 1, mse = 1.580316784034871e+40\n",
      "alpha = 1000000, eta = 10, mse = 1.2132135100163603e+47\n",
      "alpha = 1000000, eta = 100, mse = 6.138549912463654e+53\n",
      "alpha = 1000000, eta = 1000, mse = 1.4733007415825903e+61\n",
      "alpha = 1000000, eta = 10000, mse = 1.3417713764121098e+68\n",
      "alpha = 1000000, eta = 100000, mse = 1.4664982821346577e+75\n",
      "alpha = 1000000, eta = 1000000, mse = 4.5387344269484654e+81\n"
     ]
    }
   ],
   "source": [
    "#Here we are performing cross validation w.r.t our training dataset using custom built SGD Regressor. Here our hyperparameters-\n",
    "#- alpha and eta0.\n",
    "error_i = []\n",
    "err_1 = dict()\n",
    "alpha = [10**-6,10**-5,10**-4,10**-3,10**-2,10**-1,1,10**1,10**2,10**3,10**4,10**5,10**6]\n",
    "eta0 = [10**-6,10**-5,10**-4,10**-3,10**-2,10**-1,1,10**1,10**2,10**3,10**4,10**5,10**6]\n",
    "for i in alpha:\n",
    "    for j in eta0:\n",
    "        sgd = sgdreg_fit(d_train,alpha = i,eta0 = j)#Fitting our training dataset\n",
    "        y_pred = sgdreg_predict(sgd['weight'],sgd['intercept'],standardized_train) #predicting y_i's of train data using-\n",
    "        # the weights that our model has learned.\n",
    "        err = error(y_train,y_pred) #calculating our mean squared error\n",
    "        error_i.append(err) #Appending our errors\n",
    "        err_1[err] = [i,j,err] #storing the mean squared error corresponding to a particular alpha and eta0 value.\n",
    "        print('alpha = {0}, eta = {1}, mse = {2}'.format(i,j,err))"
   ]
  },
  {
   "cell_type": "code",
   "execution_count": 19,
   "metadata": {},
   "outputs": [
    {
     "data": {
      "text/plain": [
       "[0.1, 0.1, 37.84139064712439]"
      ]
     },
     "execution_count": 19,
     "metadata": {},
     "output_type": "execute_result"
    }
   ],
   "source": [
    "a = min(error_i)#Finding the alpha and eta0 values corresponding to minimum mean squared error\n",
    "err_1[a]"
   ]
  },
  {
   "cell_type": "code",
   "execution_count": 20,
   "metadata": {},
   "outputs": [],
   "source": [
    "#Here we are trying to predict the y_i's corresponding to x_i's of test dataset using our best fit model above\n",
    "sgd = sgdreg_fit(d_train,alpha = 0.1,eta0 = 0.1)\n",
    "y_pred = sgdreg_predict(sgd['weight'],sgd['intercept'],standardized_test)"
   ]
  },
  {
   "cell_type": "code",
   "execution_count": 22,
   "metadata": {},
   "outputs": [
    {
     "name": "stdout",
     "output_type": "stream",
     "text": [
      "58.59034191193969\n"
     ]
    },
    {
     "data": {
      "image/png": "[encoded data removed]",
      "text/plain": [
       "<Figure size 432x288 with 1 Axes>"
      ]
     },
     "metadata": {},
     "output_type": "display_data"
    }
   ],
   "source": [
    "print(error(y_test,y_pred))\n",
    "plot(y_test,y_pred)"
   ]
  },
  {
   "cell_type": "markdown",
   "metadata": {},
   "source": [
    "#### Observation:\n",
    "<pre>From above plot we can see that the actual values and predicted values are linearly aligned with each other which indicates that our custom model is predicting our actual values with very less error and is thus somewhat perfectly performing Stochastic Gradient Descent Regression.</pre>"
   ]
  },
  {
   "cell_type": "code",
   "execution_count": 23,
   "metadata": {},
   "outputs": [
    {
     "data": {
      "text/plain": [
       "array([[ 0.38355789, -0.65461713, -0.54872229,  1.18067096, -0.61003668,\n",
       "         3.54662039, -0.34283599, -0.79518735, -1.05936229, -0.67868092,\n",
       "        -1.81454486,  0.96494767, -2.69118232]])"
      ]
     },
     "execution_count": 23,
     "metadata": {},
     "output_type": "execute_result"
    }
   ],
   "source": [
    "w_1 = sgd['weight'] #weights corresponding to our best fit model\n",
    "w_1"
   ]
  },
  {
   "cell_type": "markdown",
   "metadata": {},
   "source": [
    "### 4. Sklearn SGDRegressor"
   ]
  },
  {
   "cell_type": "code",
   "execution_count": 24,
   "metadata": {},
   "outputs": [],
   "source": [
    "mse = make_scorer(mean_squared_error) #As mean_squared_error is not a scoring parameter in Grid Search CV therefor we are-\n",
    "#- using make_score to make mean_squared_error as one of the scoring parameters."
   ]
  },
  {
   "cell_type": "code",
   "execution_count": 25,
   "metadata": {},
   "outputs": [
    {
     "name": "stdout",
     "output_type": "stream",
     "text": [
      "Fitting 10 folds for each of 169 candidates, totalling 1690 fits\n",
      "********************\n"
     ]
    },
    {
     "name": "stderr",
     "output_type": "stream",
     "text": [
      "[Parallel(n_jobs=1)]: Done 1690 out of 1690 | elapsed:  1.5min finished\n"
     ]
    }
   ],
   "source": [
    "#Here we are performing gridsearch cross validation on our dataset for our sgd regressor\n",
    "sgd = SGDRegressor(max_iter = 1000)\n",
    "param_grid = {'alpha':[10**-6,10**-5,10**-4,10**-3,10**-2,10**-1,1,10**1,10**2,10**3,10**4,10**5,10**6],\n",
    "              'eta0':[10**-6,10**-5,10**-4,10**-3,10**-2,10**-1,1,10**1,10**2,10**3,10**4,10**5,10**6]\n",
    "             }\n",
    "gscv = GridSearchCV(sgd,param_grid,cv = 10,scoring = mse,verbose = 1)\n",
    "gscv.fit(standardized_train,y_train)\n",
    "print('*'*20)"
   ]
  },
  {
   "cell_type": "code",
   "execution_count": 26,
   "metadata": {},
   "outputs": [
    {
     "name": "stdout",
     "output_type": "stream",
     "text": [
      "20.687995052417175\n"
     ]
    },
    {
     "data": {
      "text/html": [
       "<div>\n",
       "<style scoped>\n",
       "    .dataframe tbody tr th:only-of-type {\n",
       "        vertical-align: middle;\n",
       "    }\n",
       "\n",
       "    .dataframe tbody tr th {\n",
       "        vertical-align: top;\n",
       "    }\n",
       "\n",
       "    .dataframe thead th {\n",
       "        text-align: right;\n",
       "    }\n",
       "</style>\n",
       "<table border=\"1\" class=\"dataframe\">\n",
       "  <thead>\n",
       "    <tr style=\"text-align: right;\">\n",
       "      <th></th>\n",
       "      <th>mean_fit_time</th>\n",
       "      <th>mean_score_time</th>\n",
       "      <th>mean_test_score</th>\n",
       "      <th>mean_train_score</th>\n",
       "      <th>param_alpha</th>\n",
       "      <th>param_eta0</th>\n",
       "      <th>params</th>\n",
       "      <th>rank_test_score</th>\n",
       "      <th>split0_test_score</th>\n",
       "      <th>split0_train_score</th>\n",
       "      <th>...</th>\n",
       "      <th>split7_test_score</th>\n",
       "      <th>split7_train_score</th>\n",
       "      <th>split8_test_score</th>\n",
       "      <th>split8_train_score</th>\n",
       "      <th>split9_test_score</th>\n",
       "      <th>split9_train_score</th>\n",
       "      <th>std_fit_time</th>\n",
       "      <th>std_score_time</th>\n",
       "      <th>std_test_score</th>\n",
       "      <th>std_train_score</th>\n",
       "    </tr>\n",
       "  </thead>\n",
       "  <tbody>\n",
       "    <tr>\n",
       "      <th>56</th>\n",
       "      <td>0.049928</td>\n",
       "      <td>0.000303</td>\n",
       "      <td>20.687995</td>\n",
       "      <td>18.543505</td>\n",
       "      <td>0.01</td>\n",
       "      <td>0.01</td>\n",
       "      <td>{'eta0': 0.01, 'alpha': 0.01}</td>\n",
       "      <td>169</td>\n",
       "      <td>36.317707</td>\n",
       "      <td>16.836803</td>\n",
       "      <td>...</td>\n",
       "      <td>10.782786</td>\n",
       "      <td>19.542829</td>\n",
       "      <td>17.750613</td>\n",
       "      <td>18.83383</td>\n",
       "      <td>20.281476</td>\n",
       "      <td>18.631596</td>\n",
       "      <td>0.001803</td>\n",
       "      <td>0.00006</td>\n",
       "      <td>8.070575</td>\n",
       "      <td>0.862831</td>\n",
       "    </tr>\n",
       "  </tbody>\n",
       "</table>\n",
       "<p>1 rows × 32 columns</p>\n",
       "</div>"
      ],
      "text/plain": [
       "    mean_fit_time  mean_score_time  mean_test_score  mean_train_score  \\\n",
       "56       0.049928         0.000303        20.687995         18.543505   \n",
       "\n",
       "   param_alpha param_eta0                         params  rank_test_score  \\\n",
       "56        0.01       0.01  {'eta0': 0.01, 'alpha': 0.01}              169   \n",
       "\n",
       "    split0_test_score  split0_train_score       ...         split7_test_score  \\\n",
       "56          36.317707           16.836803       ...                 10.782786   \n",
       "\n",
       "    split7_train_score  split8_test_score  split8_train_score  \\\n",
       "56           19.542829          17.750613            18.83383   \n",
       "\n",
       "    split9_test_score  split9_train_score  std_fit_time  std_score_time  \\\n",
       "56          20.281476           18.631596      0.001803         0.00006   \n",
       "\n",
       "    std_test_score  std_train_score  \n",
       "56        8.070575         0.862831  \n",
       "\n",
       "[1 rows x 32 columns]"
      ]
     },
     "execution_count": 26,
     "metadata": {},
     "output_type": "execute_result"
    }
   ],
   "source": [
    "df = pd.DataFrame(gscv.cv_results_)#Converting our grid search cross validation results into dataframe\n",
    "print(df['mean_test_score'].min()) #Here we are trying to get the minimum mean squared error\n",
    "best_df = df[df['mean_test_score']==[df['mean_test_score'].min()]] #Here we are tring to get the entire datapoint corresponding-\n",
    "#- to the min mean_squared_error.\n",
    "best_df"
   ]
  },
  {
   "cell_type": "code",
   "execution_count": 27,
   "metadata": {},
   "outputs": [
    {
     "data": {
      "text/plain": [
       "56"
      ]
     },
     "execution_count": 27,
     "metadata": {},
     "output_type": "execute_result"
    }
   ],
   "source": [
    "index = best_df['param_alpha'].index #Getting index corresponding to best values of hyperparameters which result in min error\n",
    "index[0]"
   ]
  },
  {
   "cell_type": "code",
   "execution_count": 28,
   "metadata": {},
   "outputs": [
    {
     "name": "stdout",
     "output_type": "stream",
     "text": [
      "Best hyperparameters are: alpha = 0.01 and eta0 = 0.01\n"
     ]
    }
   ],
   "source": [
    "print('Best hyperparameters are: alpha = {0} and eta0 = {1}'.format(best_df['param_alpha'][index[0]],best_df['param_eta0'][index[0]]))"
   ]
  },
  {
   "cell_type": "code",
   "execution_count": 29,
   "metadata": {},
   "outputs": [],
   "source": [
    "#Here we are testing our model that we learnt above on our test dataset\n",
    "sgd = SGDRegressor(alpha = 0.01,eta0 = 0.01,max_iter = 1000)\n",
    "sgd.fit(standardized_train,y_train)\n",
    "y_pred = sgd.predict(standardized_test)"
   ]
  },
  {
   "cell_type": "code",
   "execution_count": 30,
   "metadata": {},
   "outputs": [
    {
     "name": "stdout",
     "output_type": "stream",
     "text": [
      "33.651453623469465\n"
     ]
    },
    {
     "data": {
      "image/png": "[encoded data removed]",
      "text/plain": [
       "<Figure size 432x288 with 1 Axes>"
      ]
     },
     "metadata": {},
     "output_type": "display_data"
    }
   ],
   "source": [
    "print(error(y_test,y_pred))\n",
    "plot(y_test,y_pred)"
   ]
  },
  {
   "cell_type": "markdown",
   "metadata": {},
   "source": [
    "#### Observation:\n",
    "<pre>The above graph that we have got using sklearns Stochastic Gradient Descent Regressor model is very much similar to our plot that we got using custom implementation.</pre>"
   ]
  },
  {
   "cell_type": "code",
   "execution_count": 31,
   "metadata": {},
   "outputs": [
    {
     "data": {
      "text/plain": [
       "array([-0.75595421,  0.78835386,  0.08226338,  0.62230719, -1.85857673,\n",
       "        3.6593889 , -0.44289959, -2.70376005,  1.70737974, -1.63573206,\n",
       "       -1.92452995,  0.82438522, -2.63974891])"
      ]
     },
     "execution_count": 31,
     "metadata": {},
     "output_type": "execute_result"
    }
   ],
   "source": [
    "w_2 = sgd.coef_ #weights corresponding to our best fit model\n",
    "w_2"
   ]
  },
  {
   "cell_type": "code",
   "execution_count": 32,
   "metadata": {},
   "outputs": [
    {
     "data": {
      "text/plain": [
       "4.233214598939649"
      ]
     },
     "execution_count": 32,
     "metadata": {},
     "output_type": "execute_result"
    }
   ],
   "source": [
    "np.linalg.norm(w_1-w_2) #Calculating euclidean distance between the weight vectors we got using sklearn sgd regressor and our-\n",
    "#- own custom implementation."
   ]
  },
  {
   "cell_type": "markdown",
   "metadata": {},
   "source": [
    "<pre>From above we can see that the weight vectors that we got using Custom implementation and sklearns implementation are very close to each other in 13 dimensional space as the distance between them is only 4.23 units.</pre>"
   ]
  },
  {
   "cell_type": "markdown",
   "metadata": {},
   "source": [
    "## 5. Conclusion"
   ]
  },
  {
   "cell_type": "code",
   "execution_count": 33,
   "metadata": {},
   "outputs": [
    {
     "data": {
      "text/html": [
       "<div>\n",
       "<style scoped>\n",
       "    .dataframe tbody tr th:only-of-type {\n",
       "        vertical-align: middle;\n",
       "    }\n",
       "\n",
       "    .dataframe tbody tr th {\n",
       "        vertical-align: top;\n",
       "    }\n",
       "\n",
       "    .dataframe thead th {\n",
       "        text-align: right;\n",
       "    }\n",
       "</style>\n",
       "<table border=\"1\" class=\"dataframe\">\n",
       "  <thead>\n",
       "    <tr style=\"text-align: right;\">\n",
       "      <th></th>\n",
       "      <th>Regressor</th>\n",
       "      <th>MSE</th>\n",
       "      <th>Weight</th>\n",
       "      <th>Distance</th>\n",
       "      <th>alpha</th>\n",
       "      <th>learning_rate</th>\n",
       "    </tr>\n",
       "  </thead>\n",
       "  <tbody>\n",
       "    <tr>\n",
       "      <th>0</th>\n",
       "      <td>Custom SGDRegressor</td>\n",
       "      <td>58.59</td>\n",
       "      <td>[0.38355789, -0.65461713, -0.54872229, 1.18067...</td>\n",
       "      <td>4.23</td>\n",
       "      <td>0.10</td>\n",
       "      <td>0.10</td>\n",
       "    </tr>\n",
       "    <tr>\n",
       "      <th>1</th>\n",
       "      <td>Sklearn SGDRegressor</td>\n",
       "      <td>33.65</td>\n",
       "      <td>[-0.75595421, 0.78835386, 0.08226338, 0.622307...</td>\n",
       "      <td>4.23</td>\n",
       "      <td>0.01</td>\n",
       "      <td>0.01</td>\n",
       "    </tr>\n",
       "  </tbody>\n",
       "</table>\n",
       "</div>"
      ],
      "text/plain": [
       "              Regressor    MSE  \\\n",
       "0   Custom SGDRegressor  58.59   \n",
       "1  Sklearn SGDRegressor  33.65   \n",
       "\n",
       "                                              Weight  Distance  alpha  \\\n",
       "0  [0.38355789, -0.65461713, -0.54872229, 1.18067...      4.23   0.10   \n",
       "1  [-0.75595421, 0.78835386, 0.08226338, 0.622307...      4.23   0.01   \n",
       "\n",
       "   learning_rate  \n",
       "0           0.10  \n",
       "1           0.01  "
      ]
     },
     "execution_count": 33,
     "metadata": {},
     "output_type": "execute_result"
    }
   ],
   "source": [
    "x = prettytable.PrettyTable()\n",
    "list_1 = [['Custom SGDRegressor',58.59,[ 0.38355789, -0.65461713, -0.54872229,  1.18067096, -0.61003668,\n",
    "         3.54662039, -0.34283599, -0.79518735, -1.05936229, -0.67868092,\n",
    "        -1.81454486,  0.96494767, -2.69118232],4.23,0.1,0.1],['Sklearn SGDRegressor',33.65,[-0.75595421,  0.78835386,  0.08226338,  0.62230719, -1.85857673,\n",
    "        3.6593889 , -0.44289959, -2.70376005,  1.70737974, -1.63573206,\n",
    "       -1.92452995,  0.82438522, -2.63974891],4.23,0.01,0.01]]\n",
    "names = ['Regressor', 'MSE', 'Weight', 'Distance','alpha','learning_rate']\n",
    "pd.DataFrame(list_1,columns = names)"
   ]
  },
  {
   "cell_type": "markdown",
   "metadata": {},
   "source": [
    "<pre>From above table we can see that our weight vectors that we got using custom sgd regressor implementation and sklearns sgd regressor implementation are very close to each other as the distance between them is only 4.23 units which means that both the weights vectors are very similar to each other. This fact is also reflected in the mean squared error values which we got for both of these weight vectors. With Custom SGD Regressor we got best fit model for alpha = 0.1 and eta ( or learning_rate) = 0.1. Where as for Sklearns sgd we got best fit model for alpha = 0.01 and eta = 0.01. </pre>"
   ]
  },
  {
   "cell_type": "code",
   "execution_count": null,
   "metadata": {},
   "outputs": [],
   "source": []
  }
 ],
 "metadata": {
  "kernelspec": {
   "display_name": "Python 3",
   "language": "python",
   "name": "python3"
  },
  "language_info": {
   "codemirror_mode": {
    "name": "ipython",
    "version": 3
   },
   "file_extension": ".py",
   "mimetype": "text/x-python",
   "name": "python",
   "nbconvert_exporter": "python",
   "pygments_lexer": "ipython3",
   "version": "3.5.3"
  }
 },
 "nbformat": 4,
 "nbformat_minor": 2
}
